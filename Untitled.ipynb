{
 "cells": [
  {
   "cell_type": "markdown",
   "metadata": {},
   "source": [
    "### Enhanced diagnostics on wave properties\n",
    "After initial completion of wave diagnostics, there are several factors for improvement which are attempted to resolve here:\n",
    "* change bining procedure to better isolate wave signals\n",
    "* combine up and down casts from tow-yo (just using mean right now)\n"
   ]
  },
  {
   "cell_type": "code",
   "execution_count": null,
   "metadata": {},
   "outputs": [],
   "source": [
    "%matplotlib inline\n",
    "import numpy as np\n",
    "import scipy.signal as sig\n",
    "import matplotlib.patches as mpatches\n",
    "import matplotlib.pyplot as plt\n",
    "import data_load\n",
    "import gsw\n",
    "import oceans as oc\n",
    "import pandas as pd\n",
    "import internal_waves_calculations as iwc\n",
    "import warnings\n",
    "import cmocean\n",
    "import matplotlib.colors as colors\n",
    "import ray_tracing as rt\n",
    "# Probably Shouldn't do this but they annoy me\n",
    "warnings.simplefilter(\"ignore\")\n",
    "\n",
    "pd.options.display.max_rows = 3000\n",
    "pd.options.display.max_columns = 22\n",
    "\n",
    "plt.rcParams.update({'font.size':14})\n",
    "\n",
    "\n",
    "# load data and cut off bottom (its all nans)\n",
    "ladcp, ctd = data_load.load_data()\n",
    "strain = np.genfromtxt('strain.csv', delimiter=',')\n",
    "wl_max = 1000\n",
    "wl_min = 400\n",
    "ctd_bin_size = 1024\n",
    "ladcp_bin_size = 1024\n",
    "nfft = 1024\n",
    "U, V, p_ladcp = oc.loadLADCP(ladcp)\n",
    "S, T, p_ctd, lat, lon = oc.loadCTD(ctd)\n",
    "rho = gsw.density.rho(S, T, p_ctd)\n",
    "\n",
    "maxDepth = 4000\n",
    "idx_ladcp = p_ladcp[:, -1] <= maxDepth\n",
    "idx_ctd = p_ctd[:, -1] <= maxDepth\n",
    "\n",
    "\n",
    "S = S[idx_ctd,:]\n",
    "T = T[idx_ctd,:]\n",
    "rho = rho[idx_ctd,:]\n",
    "p_ctd = p_ctd[idx_ctd, :]\n",
    "U = U[idx_ladcp, :]\n",
    "V = V[idx_ladcp, :]\n",
    "p_ladcp = p_ladcp[idx_ladcp, :]\n",
    "\n",
    "\n",
    "# Bin CTD data\n",
    "ctd_bins = oc.binData(S, p_ctd[:, 0], ctd_bin_size)\n",
    "# Bin Ladcp Data\n",
    "ladcp_bins = oc.binData(U, p_ladcp[:, 0], ladcp_bin_size)\n",
    "\n",
    "# Depth and lat/long grids (For plots)\n",
    "depths = np.vstack([np.nanmean(p_ctd[binIn]) for binIn in ctd_bins])\n",
    "dist = gsw.distance(lon, lat)\n",
    "dist = np.cumsum(dist)/1000\n",
    "dist = np.append(0,dist)"
   ]
  }
 ],
 "metadata": {
  "kernelspec": {
   "display_name": "Python 3",
   "language": "python",
   "name": "python3"
  },
  "language_info": {
   "codemirror_mode": {
    "name": "ipython",
    "version": 3
   },
   "file_extension": ".py",
   "mimetype": "text/x-python",
   "name": "python",
   "nbconvert_exporter": "python",
   "pygments_lexer": "ipython3",
   "version": "3.6.3"
  }
 },
 "nbformat": 4,
 "nbformat_minor": 2
}
