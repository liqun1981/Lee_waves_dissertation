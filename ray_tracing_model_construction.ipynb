{
 "cells": [
  {
   "cell_type": "markdown",
   "metadata": {},
   "source": [
    "\n",
    "\n",
    "## Ray Tracing with satGEM grids\n",
    "- The first task is to reconstruct the ray equations in 4 dimensions (x, y, z, and time) from the original ray tracing  equations where flow and buoyancy only varied with depth.\n",
    "\n",
    "### Notes from Buhler et al. 1999 paper\n",
    "- In this paper the x and y planes are aligned and a fully zonal mean flow is assumed. With these assumptions they start with an absolute frequency function:\n",
    "\n",
    "$$ \\Omega(z,k,m) \\equiv + \\sqrt{\\bigg( N^2 \\frac{k^2}{k^2 +m^2} + f^2 \\bigg)} + U(z)k $$\n",
    "\n",
    "where rate of change of wavepacket parameters are given by:\n",
    "\n",
    "$$ \\frac{d_gx}{dt} \\equiv + \\bigg(\\frac{\\delta\\Omega}{\\delta k}\\bigg)$$\n",
    "\n",
    "\n",
    "$$ \\frac{d_gz}{dt} \\equiv + \\bigg(\\frac{\\delta\\Omega}{\\delta m}\\bigg)$$\n",
    "\n",
    "which are computed as:\n",
    "\n",
    "$$\\frac{d_gx}{dt} \\equiv \\frac{\\omega_0^2 - f^2}{\\omega} \\frac{m^2}{k(k^2 + m^2)} + U(z) $$\n",
    "\n",
    "$$\\frac{d_gz}{dt} \\equiv \\frac{\\omega_0^2 - f^2}{\\omega} \\frac{-m}{(k^2 + m^2)} + 0 $$\n",
    "\n",
    "where zero indicates no vertical flow <span  style=\"color:red\">**Not sure about this**</span>.\n",
    "\n",
    "and $\\omega_0 = \\omega - U(z)k$\n",
    "\n",
    "and:\n",
    "\n",
    "\n",
    "$$ \\frac{d_gk}{dt} \\equiv  -\\bigg(\\frac{\\delta\\Omega}{\\delta x}\\bigg) \\equiv 0 $$\n",
    "\n",
    "$$ \\frac{d_gm}{dt} \\equiv  -\\bigg(\\frac{\\delta\\Omega}{\\delta z}\\bigg) \\equiv -k\\frac{\\delta U}{\\delta z}$$\n",
    "\n",
    "\n"
   ]
  },
  {
   "cell_type": "markdown",
   "metadata": {
    "collapsed": true
   },
   "source": [
    "### Revised equations\n",
    "In order to utilize the satGEM data set, ray equations must be recast with no assumptions about flow in time and space except no important vertical flow **(Seems wrong)** \n",
    "My approach to this is to basically add the $l$ term (meridional component) back to the equations instead of assuming its derivatives in time and space are constant/0.\n",
    "\n",
    "The revised 4D ray equations (group speeds) are:\n",
    "<hr>\n",
    "$$\\frac{d_gx}{dt} \\equiv \\frac{\\omega_0^2 - f^2}{\\omega} \\frac{m^2}{k(k^2 + l^2 m^2)} + U(x,y,z) $$\n",
    "\n",
    "$$\\frac{d_gy}{dt} \\equiv \\frac{\\omega_0^2 - f^2}{\\omega}\n",
    "\\frac{m^2}{l(k^2 + l^2 m^2)} + V(x,y,z) $$\n",
    "\n",
    "$$\\frac{d_gz}{dt} \\equiv \\frac{\\omega_0^2 - f^2}{\\omega} \\frac{-m}{(k^2 + m^2 +l^2)} + 0 $$\n",
    "<hr>\n",
    "\n",
    "and rate of change of wave parameters:\n",
    "\n",
    "<span  style=\"color:blue\">**How will $k$ and $l$ vary in space and time now?**</span>.\n",
    "\n",
    "$$ \\frac{d_gk}{dt} \\equiv  -\\bigg(\\frac{\\delta\\Omega}{\\delta x}\\bigg) \\equiv 0 $$\n",
    "\n",
    "** Why does vertical wavenumner vary with shear?**\n",
    "\n",
    "$$ \\frac{d_gm}{dt} \\equiv  -\\bigg(\\frac{\\delta\\Omega}{\\delta z}\\bigg) \\equiv  -k\\frac{\\delta U(x,y,z,t)}{\\delta z}$$\n",
    "\n",
    "\n"
   ]
  },
  {
   "cell_type": "code",
   "execution_count": null,
   "metadata": {
    "collapsed": true
   },
   "outputs": [],
   "source": []
  },
  {
   "cell_type": "code",
   "execution_count": null,
   "metadata": {
    "collapsed": true
   },
   "outputs": [],
   "source": []
  }
 ],
 "metadata": {
  "kernelspec": {
   "display_name": "Python 3",
   "language": "python",
   "name": "python3"
  },
  "language_info": {
   "codemirror_mode": {
    "name": "ipython",
    "version": 3
   },
   "file_extension": ".py",
   "mimetype": "text/x-python",
   "name": "python",
   "nbconvert_exporter": "python",
   "pygments_lexer": "ipython3",
   "version": "3.6.3"
  }
 },
 "nbformat": 4,
 "nbformat_minor": 2
}
