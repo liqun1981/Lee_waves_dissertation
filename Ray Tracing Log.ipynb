{
 "cells": [
  {
   "cell_type": "markdown",
   "metadata": {},
   "source": [
    "# Ray Tracing with satGEM\n",
    "\n",
    "## Introduction\n",
    "This notebook contains ray tracing using satGEM T-S and velocity fields "
   ]
  },
  {
   "cell_type": "code",
   "execution_count": 1,
   "metadata": {},
   "outputs": [
    {
     "name": "stderr",
     "output_type": "stream",
     "text": [
      "/Users/mdevana/anaconda3/lib/python3.6/site-packages/cmocean/tools.py:76: MatplotlibDeprecationWarning: The is_string_like function was deprecated in version 2.1.\n",
      "  if not mpl.cbook.is_string_like(rgbin[0]):\n",
      "/Users/mdevana/anaconda3/lib/python3.6/site-packages/h5py/__init__.py:34: FutureWarning: Conversion of the second argument of issubdtype from `float` to `np.floating` is deprecated. In future, it will be treated as `np.float64 == np.dtype(float).type`.\n",
      "  from ._conv import register_converters as _register_converters\n"
     ]
    }
   ],
   "source": [
    "%matplotlib inline\n",
    "import numpy as np\n",
    "import scipy\n",
    "import ray_tracing_satGEM_v2 as rt\n",
    "import oceans as oc\n",
    "import warnings\n",
    "import matplotlib.pyplot as plt\n",
    "import pandas as pd\n",
    "from jupyterthemes import jtplot\n",
    "warnings.simplefilter(\"ignore\")\n",
    "plt.rcParams.update({'font.size':14})\n",
    "\n",
    "jtplot.reset()"
   ]
  },
  {
   "cell_type": "markdown",
   "metadata": {},
   "source": [
    "### Set up\n",
    "- Load in the results of the wave feature parametrizations and create a wave for each one. \n"
   ]
  },
  {
   "cell_type": "code",
   "execution_count": 14,
   "metadata": {},
   "outputs": [
    {
     "name": "stdout",
     "output_type": "stream",
     "text": [
      "Wave hit seafloor\n",
      "5704\n",
      "28800\n",
      "Wave hit seafloor\n",
      "893\n",
      "28800\n",
      "Wave hit seafloor\n",
      "904\n",
      "28800\n",
      "Wave hit seafloor\n",
      "676\n",
      "28800\n"
     ]
    },
    {
     "ename": "IndexError",
     "evalue": "boolean index did not match indexed array along dimension 1; dimension is 7 but corresponding boolean dimension is 6",
     "output_type": "error",
     "traceback": [
      "\u001b[0;31m---------------------------------------------------------------------------\u001b[0m",
      "\u001b[0;31mIndexError\u001b[0m                                Traceback (most recent call last)",
      "\u001b[0;32m<ipython-input-14-68e93b1c248a>\u001b[0m in \u001b[0;36m<module>\u001b[0;34m()\u001b[0m\n\u001b[1;32m     22\u001b[0m                        \u001b[0mlatpad\u001b[0m\u001b[0;34m=\u001b[0m\u001b[0;36m5\u001b[0m\u001b[0;34m,\u001b[0m \u001b[0mlonpad\u001b[0m\u001b[0;34m=\u001b[0m\u001b[0;36m5\u001b[0m\u001b[0;34m,\u001b[0m \u001b[0mtpad\u001b[0m\u001b[0;34m=\u001b[0m\u001b[0;36m2\u001b[0m\u001b[0;34m,\u001b[0m\u001b[0;34m\u001b[0m\u001b[0m\n\u001b[1;32m     23\u001b[0m                        \u001b[0mextend_bathy\u001b[0m\u001b[0;34m=\u001b[0m\u001b[0;36m20\u001b[0m\u001b[0;34m*\u001b[0m\u001b[0;36m1000\u001b[0m\u001b[0;34m,\u001b[0m\u001b[0;34m\u001b[0m\u001b[0m\n\u001b[0;32m---> 24\u001b[0;31m                        interp_mode='lnd', interp_function='linear')\n\u001b[0m\u001b[1;32m     25\u001b[0m \u001b[0;34m\u001b[0m\u001b[0m\n",
      "\u001b[0;32m~/Dropbox/Lee_waves_dissertation/ray_tracing_satGEM_v2.py\u001b[0m in \u001b[0;36mray_tracing_interp\u001b[0;34m(wave, gem, time_direction, duration, tstep, latpad, lonpad, tpad, extend_bathy, interp_mode, interp_function)\u001b[0m\n\u001b[1;32m    957\u001b[0m         \u001b[0mlonlims\u001b[0m\u001b[0;34m,\u001b[0m \u001b[0mlatlims\u001b[0m\u001b[0;34m,\u001b[0m \u001b[0mtlims\u001b[0m \u001b[0;34m=\u001b[0m\u001b[0;31m \u001b[0m\u001b[0;31m\\\u001b[0m\u001b[0;34m\u001b[0m\u001b[0m\n\u001b[1;32m    958\u001b[0m                         gem.interpfield_lnd(lon, lat,\n\u001b[0;32m--> 959\u001b[0;31m                                             \u001b[0mz\u001b[0m\u001b[0;34m,\u001b[0m \u001b[0mtime\u001b[0m\u001b[0;34m[\u001b[0m\u001b[0;36m0\u001b[0m\u001b[0;34m]\u001b[0m\u001b[0;34m,\u001b[0m\u001b[0;34m\u001b[0m\u001b[0m\n\u001b[0m\u001b[1;32m    960\u001b[0m                                               )\n\u001b[1;32m    961\u001b[0m \u001b[0;34m\u001b[0m\u001b[0m\n",
      "\u001b[0;32m~/Dropbox/Lee_waves_dissertation/ray_tracing_satGEM_v2.py\u001b[0m in \u001b[0;36minterpfield_lnd\u001b[0;34m(self, lon, lat, depth, time, lonpad, latpad, tpad)\u001b[0m\n\u001b[1;32m    781\u001b[0m \u001b[0;34m\u001b[0m\u001b[0m\n\u001b[1;32m    782\u001b[0m             \u001b[0mmask\u001b[0m \u001b[0;34m=\u001b[0m \u001b[0;34m~\u001b[0m\u001b[0mnp\u001b[0m\u001b[0;34m.\u001b[0m\u001b[0misnan\u001b[0m\u001b[0;34m(\u001b[0m\u001b[0msubgrid\u001b[0m\u001b[0;34m)\u001b[0m\u001b[0;34m\u001b[0m\u001b[0m\n\u001b[0;32m--> 783\u001b[0;31m             points = np.vstack([lonmesh[mask],\n\u001b[0m\u001b[1;32m    784\u001b[0m                                 \u001b[0mlatmesh\u001b[0m\u001b[0;34m[\u001b[0m\u001b[0mmask\u001b[0m\u001b[0;34m]\u001b[0m\u001b[0;34m,\u001b[0m\u001b[0;34m\u001b[0m\u001b[0m\n\u001b[1;32m    785\u001b[0m                                 \u001b[0mdmesh\u001b[0m\u001b[0;34m[\u001b[0m\u001b[0mmask\u001b[0m\u001b[0;34m]\u001b[0m\u001b[0;34m,\u001b[0m\u001b[0;34m\u001b[0m\u001b[0m\n",
      "\u001b[0;31mIndexError\u001b[0m: boolean index did not match indexed array along dimension 1; dimension is 7 but corresponding boolean dimension is 6"
     ]
    }
   ],
   "source": [
    "# Load Data\n",
    "wave_props = pd.read_pickle('wave_properties.pkl')\n",
    "\n",
    "# convert back to numpy array for easier indexing\n",
    "wave_props = wave_props.as_matrix()\n",
    "\n",
    "all_waves = []\n",
    "# columns order = ['k', 'l', 'm', 'omega', 'depth', 'lon', 'lat', 'date']\n",
    "\n",
    "# make wave objects for each good bin\n",
    "for wave in wave_props:\n",
    "    all_waves.append(rt.Wave(k=wave[0], l=wave[1], m=-wave[2], w0=wave[3], z0=wave[4], t0=wave[7],\n",
    "                lat=wave[6], lon=wave[5],\n",
    "                ))\n",
    "    \n",
    "gem = rt.satGEM_mini()\n",
    "\n",
    "for wave in all_waves:\n",
    "    rt.ray_tracing_interp(wave, gem, duration=10*24,\n",
    "                       tstep=30,\n",
    "                       time_direction='reverse',\n",
    "                       latpad=5, lonpad=5, tpad=2,\n",
    "                       extend_bathy=20*1000,\n",
    "                       interp_mode='lnd', interp_function='linear')\n",
    "    "
   ]
  },
  {
   "cell_type": "code",
   "execution_count": 18,
   "metadata": {},
   "outputs": [
    {
     "ename": "AttributeError",
     "evalue": "'Wave' object has no attribute 'results'",
     "output_type": "error",
     "traceback": [
      "\u001b[0;31m---------------------------------------------------------------------------\u001b[0m",
      "\u001b[0;31mAttributeError\u001b[0m                            Traceback (most recent call last)",
      "\u001b[0;32m<ipython-input-18-6734cc2b643c>\u001b[0m in \u001b[0;36m<module>\u001b[0;34m()\u001b[0m\n\u001b[1;32m      1\u001b[0m \u001b[0mwave1\u001b[0m \u001b[0;34m=\u001b[0m \u001b[0mall_waves\u001b[0m\u001b[0;34m[\u001b[0m\u001b[0;36m4\u001b[0m\u001b[0;34m]\u001b[0m\u001b[0;34m\u001b[0m\u001b[0m\n\u001b[0;32m----> 2\u001b[0;31m \u001b[0mresults\u001b[0m \u001b[0;34m=\u001b[0m \u001b[0mwave1\u001b[0m\u001b[0;34m.\u001b[0m\u001b[0mresults\u001b[0m\u001b[0;34m\u001b[0m\u001b[0m\n\u001b[0m\u001b[1;32m      3\u001b[0m \u001b[0mrt\u001b[0m\u001b[0;34m.\u001b[0m\u001b[0mplot_results\u001b[0m\u001b[0;34m(\u001b[0m\u001b[0mresults\u001b[0m\u001b[0;34m,\u001b[0m \u001b[0mgem\u001b[0m\u001b[0;34m)\u001b[0m\u001b[0;34m\u001b[0m\u001b[0m\n",
      "\u001b[0;31mAttributeError\u001b[0m: 'Wave' object has no attribute 'results'"
     ]
    }
   ],
   "source": [
    "wave1 = all_waves[4]\n",
    "results = wave1.results  \n",
    "rt.plot_results(results, gem)\n"
   ]
  },
  {
   "cell_type": "code",
   "execution_count": 11,
   "metadata": {},
   "outputs": [
    {
     "data": {
      "text/plain": [
       "[<matplotlib.lines.Line2D at 0x18183e56d8>]"
      ]
     },
     "execution_count": 11,
     "metadata": {},
     "output_type": "execute_result"
    }
   ],
   "source": [
    "plt.figure()\n",
    "plt.plot(results['dvdz'])"
   ]
  },
  {
   "cell_type": "code",
   "execution_count": null,
   "metadata": {
    "collapsed": true
   },
   "outputs": [],
   "source": [
    "wave1 = all_waves[2]\n",
    "results = wave1.results\n",
    "#    \n",
    "rt.plot_results(results, gem)"
   ]
  },
  {
   "cell_type": "code",
   "execution_count": null,
   "metadata": {
    "collapsed": true
   },
   "outputs": [],
   "source": [
    "wave1 = all_waves[3]\n",
    "results = wave1.results\n",
    "#    \n",
    "rt.plot_results(results, gem)"
   ]
  },
  {
   "cell_type": "code",
   "execution_count": 23,
   "metadata": {},
   "outputs": [
    {
     "data": {
      "text/plain": [
       "array([[-0.0062492 ],\n",
       "       [-0.00624896],\n",
       "       [-0.00624873],\n",
       "       ...,\n",
       "       [ 0.00781699],\n",
       "       [ 0.00781709],\n",
       "       [ 0.00781719]])"
      ]
     },
     "execution_count": 23,
     "metadata": {},
     "output_type": "execute_result"
    }
   ],
   "source": []
  },
  {
   "cell_type": "code",
   "execution_count": null,
   "metadata": {
    "collapsed": true
   },
   "outputs": [],
   "source": []
  }
 ],
 "metadata": {
  "kernelspec": {
   "display_name": "Python 3",
   "language": "python",
   "name": "python3"
  },
  "language_info": {
   "codemirror_mode": {
    "name": "ipython",
    "version": 3
   },
   "file_extension": ".py",
   "mimetype": "text/x-python",
   "name": "python",
   "nbconvert_exporter": "python",
   "pygments_lexer": "ipython3",
   "version": "3.6.3"
  }
 },
 "nbformat": 4,
 "nbformat_minor": 2
}
